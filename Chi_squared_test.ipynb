{
 "cells": [
  {
   "cell_type": "markdown",
   "metadata": {},
   "source": [
    "# CHI-SQUARE TEST FOR INDEPENDENCE"
   ]
  },
  {
   "attachments": {
    "image.png": {
     "image/png": "[encoded data removed]"
    }
   },
   "cell_type": "markdown",
   "metadata": {},
   "source": [
    "# ![image.png](attachment:image.png)"
   ]
  },
  {
   "cell_type": "code",
   "execution_count": 4,
   "metadata": {},
   "outputs": [],
   "source": [
    "sanction = [0,0,0,0,0,0,0,0,0,0,1,1,1,1,1,1,1,1,1,1]\n",
    "offense = [3,3,1,3,2,3,3,1,3,3,1,2,1,1,1,2,3,1,2,1]"
   ]
  },
  {
   "cell_type": "markdown",
   "metadata": {},
   "source": [
    "## Is there any relationship between sanction and offense?"
   ]
  },
  {
   "cell_type": "markdown",
   "metadata": {},
   "source": [
    "Null Hypothesis: Sanction and offense are independent of each other.\n",
    "\n",
    "Alternative Hypothesis: Sanction and offense are not independent of each other"
   ]
  },
  {
   "cell_type": "markdown",
   "metadata": {},
   "source": [
    "## Observed Frequency  "
   ]
  },
  {
   "cell_type": "code",
   "execution_count": 16,
   "metadata": {},
   "outputs": [
    {
     "name": "stdout",
     "output_type": "stream",
     "text": [
      "Observed Sanction by offense:  [[2 1 7]\n",
      " [6 3 1]]\n"
     ]
    }
   ],
   "source": [
    "import numpy as np\n",
    "data = np.array([sanction, offense]).T\n",
    "obs_freq = []\n",
    "\n",
    "for s in set(sanction):\n",
    "    count_o = []\n",
    "    for o in set(offense):\n",
    "        count_o.append(sum((data[:,0]==s)*(data[:,1]==o)))\n",
    "    obs_freq.append(count_o)\n",
    "obs_freq = np.array(obs_freq)   \n",
    "print(\"Observed Sanction by offense: \", obs_freq )"
   ]
  },
  {
   "cell_type": "markdown",
   "metadata": {},
   "source": [
    "## Expected Frequency  "
   ]
  },
  {
   "cell_type": "code",
   "execution_count": 19,
   "metadata": {},
   "outputs": [
    {
     "name": "stdout",
     "output_type": "stream",
     "text": [
      "Expected Sanction by offense:  [[4. 2. 4.]\n",
      " [4. 2. 4.]]\n"
     ]
    }
   ],
   "source": [
    "sanction_marginal = obs_freq.sum(axis = 1).reshape(-1,1)\n",
    "offense_marginal = obs_freq.sum(axis = 0).reshape(1,-1)\n",
    "\n",
    "exp_freq = sanction_marginal.dot(offense_marginal)/ obs_freq.sum()\n",
    "print(\"Expected Sanction by offense: \", exp_freq )"
   ]
  },
  {
   "cell_type": "markdown",
   "metadata": {},
   "source": [
    "## Chi-Squared Test"
   ]
  },
  {
   "cell_type": "code",
   "execution_count": 23,
   "metadata": {},
   "outputs": [
    {
     "name": "stdout",
     "output_type": "stream",
     "text": [
      "Chi-squared test:  7.5\n"
     ]
    }
   ],
   "source": [
    "chi_squared_test = (np.power(obs_freq-exp_freq,2)/exp_freq).sum()\n",
    "print(\"Chi-squared test: \", chi_squared_test)"
   ]
  },
  {
   "cell_type": "markdown",
   "metadata": {},
   "source": [
    "## P-value  "
   ]
  },
  {
   "cell_type": "code",
   "execution_count": 29,
   "metadata": {},
   "outputs": [
    {
     "name": "stdout",
     "output_type": "stream",
     "text": [
      "p-value:  0.023517745856009076\n"
     ]
    }
   ],
   "source": [
    "from scipy.stats import chi2\n",
    "dof = (len(set(sanction))-1)*(len(set(offense))-1)\n",
    "print(\"p-value: \", 1 - chi2.cdf(chi_squared_test,dof))"
   ]
  },
  {
   "cell_type": "markdown",
   "metadata": {},
   "source": [
    "## Making decision "
   ]
  },
  {
   "cell_type": "markdown",
   "metadata": {},
   "source": [
    "Since the calculated p-value is less than the significance level of 0.05, therefore, we can reject the null hypothesis and conclude that sanction and offense are not independent of each other"
   ]
  }
 ],
 "metadata": {
  "kernelspec": {
   "display_name": "Python 3",
   "language": "python",
   "name": "python3"
  },
  "language_info": {
   "codemirror_mode": {
    "name": "ipython",
    "version": 3
   },
   "file_extension": ".py",
   "mimetype": "text/x-python",
   "name": "python",
   "nbconvert_exporter": "python",
   "pygments_lexer": "ipython3",
   "version": "3.7.6"
  }
 },
 "nbformat": 4,
 "nbformat_minor": 4
}
